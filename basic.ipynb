{
 "cells": [
  {
   "cell_type": "code",
   "execution_count": 5,
   "id": "aec80ed0",
   "metadata": {},
   "outputs": [],
   "source": [
    "import numpy as np\n",
    "from random import random, randint\n",
    "import matplotlib.pyplot as plt\n",
    "import time"
   ]
  },
  {
   "cell_type": "code",
   "execution_count": 6,
   "id": "bba2c4fe",
   "metadata": {},
   "outputs": [],
   "source": [
    "from kivy.app import App\n",
    "from kivy.uix.widget import Widget\n",
    "from kivy.uix.button import Button\n",
    "from kivy.graphics import Color, Ellipse, Line\n",
    "from kivy.config import Config\n",
    "from kivy.properties import NumericProperty, ReferenceListProperty, ObjectProperty\n",
    "from kivy.vector import Vector\n",
    "from kivy.clock import Clock"
   ]
  },
  {
   "cell_type": "code",
   "execution_count": 7,
   "id": "a4924479",
   "metadata": {},
   "outputs": [
    {
     "ename": "ModuleNotFoundError",
     "evalue": "No module named 'ai'",
     "output_type": "error",
     "traceback": [
      "\u001b[0;31m---------------------------------------------------------------------------\u001b[0m",
      "\u001b[0;31mModuleNotFoundError\u001b[0m                       Traceback (most recent call last)",
      "\u001b[0;32m<ipython-input-7-5423d676aabe>\u001b[0m in \u001b[0;36m<module>\u001b[0;34m\u001b[0m\n\u001b[0;32m----> 1\u001b[0;31m \u001b[0;32mfrom\u001b[0m \u001b[0mai\u001b[0m \u001b[0;32mimport\u001b[0m \u001b[0mDqn\u001b[0m\u001b[0;34m\u001b[0m\u001b[0;34m\u001b[0m\u001b[0m\n\u001b[0m",
      "\u001b[0;31mModuleNotFoundError\u001b[0m: No module named 'ai'"
     ]
    }
   ],
   "source": [
    "from ai import Dqn"
   ]
  },
  {
   "cell_type": "code",
   "execution_count": 8,
   "id": "9cbe30cf",
   "metadata": {},
   "outputs": [],
   "source": [
    "Config.set('input', 'mouse', 'mouse,multitouch_on_demand')"
   ]
  },
  {
   "cell_type": "code",
   "execution_count": 9,
   "id": "8cbf16bd",
   "metadata": {},
   "outputs": [],
   "source": [
    "last_x = 0\n",
    "last_y = 0\n",
    "n_points = 0\n",
    "length = 0"
   ]
  },
  {
   "cell_type": "code",
   "execution_count": 10,
   "id": "93510360",
   "metadata": {},
   "outputs": [
    {
     "ename": "NameError",
     "evalue": "name 'Dqn' is not defined",
     "output_type": "error",
     "traceback": [
      "\u001b[0;31m---------------------------------------------------------------------------\u001b[0m",
      "\u001b[0;31mNameError\u001b[0m                                 Traceback (most recent call last)",
      "\u001b[0;32m<ipython-input-10-0b6b60642458>\u001b[0m in \u001b[0;36m<module>\u001b[0;34m\u001b[0m\n\u001b[0;32m----> 1\u001b[0;31m \u001b[0mbrain\u001b[0m \u001b[0;34m=\u001b[0m \u001b[0mDqn\u001b[0m\u001b[0;34m(\u001b[0m\u001b[0;36m5\u001b[0m\u001b[0;34m,\u001b[0m\u001b[0;36m3\u001b[0m\u001b[0;34m,\u001b[0m\u001b[0;36m0.9\u001b[0m\u001b[0;34m)\u001b[0m\u001b[0;34m\u001b[0m\u001b[0;34m\u001b[0m\u001b[0m\n\u001b[0m\u001b[1;32m      2\u001b[0m \u001b[0maction2rotation\u001b[0m \u001b[0;34m=\u001b[0m \u001b[0;34m[\u001b[0m\u001b[0;36m0\u001b[0m\u001b[0;34m,\u001b[0m\u001b[0;36m20\u001b[0m\u001b[0;34m,\u001b[0m\u001b[0;34m-\u001b[0m\u001b[0;36m20\u001b[0m\u001b[0;34m]\u001b[0m\u001b[0;34m\u001b[0m\u001b[0;34m\u001b[0m\u001b[0m\n\u001b[1;32m      3\u001b[0m \u001b[0mlast_reward\u001b[0m \u001b[0;34m=\u001b[0m \u001b[0;36m0\u001b[0m\u001b[0;34m\u001b[0m\u001b[0;34m\u001b[0m\u001b[0m\n\u001b[1;32m      4\u001b[0m \u001b[0mscores\u001b[0m \u001b[0;34m=\u001b[0m \u001b[0;34m[\u001b[0m\u001b[0;34m]\u001b[0m\u001b[0;34m\u001b[0m\u001b[0;34m\u001b[0m\u001b[0m\n",
      "\u001b[0;31mNameError\u001b[0m: name 'Dqn' is not defined"
     ]
    }
   ],
   "source": [
    "brain = Dqn(5,3,0.9)\n",
    "action2rotation = [0,20,-20]\n",
    "last_reward = 0\n",
    "scores = []"
   ]
  },
  {
   "cell_type": "code",
   "execution_count": 12,
   "id": "393cd3f5",
   "metadata": {},
   "outputs": [],
   "source": [
    "first_update = True\n",
    "def init():\n",
    "    global sand\n",
    "    global goal_x\n",
    "    global goal_y\n",
    "    global first_update\n",
    "    sand = np.zeros((longueur,largeur))\n",
    "    goal_x = 20\n",
    "    goal_y = largeur - 20\n",
    "    first_update = False"
   ]
  },
  {
   "cell_type": "code",
   "execution_count": null,
   "id": "26e0e6fa",
   "metadata": {},
   "outputs": [],
   "source": []
  }
 ],
 "metadata": {
  "kernelspec": {
   "display_name": "Python 3",
   "language": "python",
   "name": "python3"
  },
  "language_info": {
   "codemirror_mode": {
    "name": "ipython",
    "version": 3
   },
   "file_extension": ".py",
   "mimetype": "text/x-python",
   "name": "python",
   "nbconvert_exporter": "python",
   "pygments_lexer": "ipython3",
   "version": "3.7.4"
  }
 },
 "nbformat": 4,
 "nbformat_minor": 5
}
